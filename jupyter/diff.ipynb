{
 "cells": [
  {
   "cell_type": "code",
   "execution_count": 1,
   "metadata": {
    "collapsed": true,
    "pycharm": {
     "name": "#%%\n"
    }
   },
   "outputs": [],
   "source": [
    "%load_ext autoreload\n",
    "%autoreload 2\n",
    "\n",
    "import sys\n",
    "\n",
    "sys.path.append(\"../src\")"
   ]
  },
  {
   "cell_type": "code",
   "execution_count": 2,
   "outputs": [],
   "source": [
    "import os\n",
    "import json\n",
    "import numpy as np\n",
    "import itertools\n",
    "import matplotlib.pyplot as plt\n",
    "\n",
    "from tqdm import tqdm\n",
    "\n",
    "from pathlib import Path\n",
    "from filter_parser import Rule"
   ],
   "metadata": {
    "collapsed": false,
    "pycharm": {
     "name": "#%%\n"
    }
   }
  },
  {
   "cell_type": "markdown",
   "source": [
    "## Data acquisition"
   ],
   "metadata": {
    "collapsed": false,
    "pycharm": {
     "name": "#%% md\n"
    }
   }
  },
  {
   "cell_type": "code",
   "execution_count": 3,
   "outputs": [],
   "source": [
    "DATA_ROOT_DIR = Path(\"/tmp/easylist_processed\")\n",
    "easylist_dir = DATA_ROOT_DIR / \"all_easylists\"\n",
    "diff_dir = DATA_ROOT_DIR / \"easylists_diff\"\n",
    "easylist_dir_filenames = os.listdir(easylist_dir)\n",
    "diff_dir_filenames = os.listdir(diff_dir)\n",
    "easylist_dir_filenames.sort()\n",
    "diff_dir_filenames.sort()"
   ],
   "metadata": {
    "collapsed": false,
    "pycharm": {
     "name": "#%%\n"
    }
   }
  },
  {
   "cell_type": "code",
   "execution_count": 4,
   "outputs": [],
   "source": [
    "def dict_from_diff_file(diff_filepath):\n",
    "    diff_filepath = Path(diff_filepath)\n",
    "    assert diff_filepath.exists() and diff_filepath.is_file()\n",
    "    with diff_filepath.open(\"r\", encoding=\"utf-8\") as fp:\n",
    "        d = json.load(fp)\n",
    "\n",
    "    def _transform(rule_dict):\n",
    "        return Rule(**rule_dict)\n",
    "\n",
    "    return {\n",
    "        \"added\": [_transform(r) for r in d[\"added\"]],\n",
    "        \"deleted\": [_transform(r) for r in d[\"deleted\"]],\n",
    "    }"
   ],
   "metadata": {
    "collapsed": false,
    "pycharm": {
     "name": "#%%\n"
    }
   }
  },
  {
   "cell_type": "code",
   "execution_count": 5,
   "outputs": [
    {
     "data": {
      "text/plain": "{'added': [Rule(raw_rule_text='||copyfuture.com/images/zhifubao.jpg', domain='copyfuture.com', is_exception=False, is_html_rule=False, options={})],\n 'deleted': []}"
     },
     "execution_count": 5,
     "metadata": {},
     "output_type": "execute_result"
    }
   ],
   "source": [
    "dict_from_diff_file(diff_dir / \"00000_00001.json\")"
   ],
   "metadata": {
    "collapsed": false,
    "pycharm": {
     "name": "#%%\n"
    }
   }
  },
  {
   "cell_type": "code",
   "execution_count": 6,
   "outputs": [],
   "source": [
    "diff_dir_json_list = os.listdir(diff_dir)\n",
    "diff_dir_json_list.sort()\n",
    "diff_dict = {json_name: dict_from_diff_file(diff_dir / json_name) for json_name in diff_dir_json_list}"
   ],
   "metadata": {
    "collapsed": false,
    "pycharm": {
     "name": "#%%\n"
    }
   }
  },
  {
   "cell_type": "code",
   "execution_count": 7,
   "outputs": [
    {
     "data": {
      "text/plain": "('00000_00001.json',\n {'added': [Rule(raw_rule_text='||copyfuture.com/images/zhifubao.jpg', domain='copyfuture.com', is_exception=False, is_html_rule=False, options={})],\n  'deleted': []})"
     },
     "execution_count": 7,
     "metadata": {},
     "output_type": "execute_result"
    }
   ],
   "source": [
    "next(iter(diff_dict.items()))"
   ],
   "metadata": {
    "collapsed": false,
    "pycharm": {
     "name": "#%%\n"
    }
   }
  },
  {
   "cell_type": "markdown",
   "source": [
    "## Utilities"
   ],
   "metadata": {
    "collapsed": false,
    "pycharm": {
     "name": "#%% md\n"
    }
   }
  },
  {
   "cell_type": "code",
   "execution_count": 8,
   "outputs": [],
   "source": [
    "def pairwise(iterable):\n",
    "    a, b = itertools.tee(iterable)\n",
    "    next(b, None)\n",
    "    return zip(a, b)\n",
    "\n",
    "def find_easylist_filename_by_idx(idx) -> str:\n",
    "    idx = int(idx)\n",
    "    return easylist_dir_filenames[idx]\n",
    "\n",
    "def get_commit_time_diff_by_idx(new_idx, old_idx) -> int:\n",
    "    \"\"\"\n",
    "    Compute the time difference between two commit identified by its index in `easylist_dir`.\n",
    "\n",
    "    Args:\n",
    "        new_idx: newer commit idx, should be less than `old_idx`\n",
    "        old_idx: older commit idx, should be greater than `new_idx`\n",
    "\n",
    "    Returns:\n",
    "        time difference in seconds\n",
    "    \"\"\"\n",
    "    new_idx = int(new_idx)\n",
    "    old_idx = int(old_idx)\n",
    "    assert new_idx <= old_idx\n",
    "    new_filename = find_easylist_filename_by_idx(new_idx)\n",
    "    old_filename = find_easylist_filename_by_idx(old_idx)\n",
    "    new_ts = int(new_filename[:-4].split(\"_\")[2])\n",
    "    old_ts = int(old_filename[:-4].split(\"_\")[2])\n",
    "    return new_ts - old_ts\n"
   ],
   "metadata": {
    "collapsed": false,
    "pycharm": {
     "name": "#%%\n"
    }
   }
  },
  {
   "cell_type": "markdown",
   "source": [
    "## Experiments"
   ],
   "metadata": {
    "collapsed": false,
    "pycharm": {
     "name": "#%% md\n"
    }
   }
  },
  {
   "cell_type": "markdown",
   "source": [
    "### Rules added/deleted"
   ],
   "metadata": {
    "collapsed": false,
    "pycharm": {
     "name": "#%% md\n"
    }
   }
  },
  {
   "cell_type": "code",
   "execution_count": 9,
   "outputs": [],
   "source": [
    "added_rule_count, deleted_rule_count = 0, 0\n",
    "added_normal_rule_count, added_html_rule_count = 0, 0\n",
    "deleted_normal_rule_count, deleted_html_rule_count = 0, 0\n",
    "for diff in diff_dict.values():\n",
    "    added_rule_count += len(diff[\"added\"])\n",
    "    deleted_rule_count += len(diff[\"deleted\"])\n",
    "    for deleted_rule in diff[\"added\"]:\n",
    "        if deleted_rule.is_html_rule:\n",
    "            added_html_rule_count += 1\n",
    "        else:\n",
    "            added_normal_rule_count += 1\n",
    "    for deleted_rule in diff[\"deleted\"]:\n",
    "        if deleted_rule.is_html_rule:\n",
    "            deleted_html_rule_count += 1\n",
    "        else:\n",
    "            deleted_normal_rule_count += 1\n"
   ],
   "metadata": {
    "collapsed": false,
    "pycharm": {
     "name": "#%%\n"
    }
   }
  },
  {
   "cell_type": "code",
   "execution_count": 10,
   "outputs": [
    {
     "data": {
      "text/plain": "(38590, 24350)"
     },
     "execution_count": 10,
     "metadata": {},
     "output_type": "execute_result"
    }
   ],
   "source": [
    "added_rule_count, deleted_rule_count"
   ],
   "metadata": {
    "collapsed": false,
    "pycharm": {
     "name": "#%%\n"
    }
   }
  },
  {
   "cell_type": "code",
   "execution_count": 11,
   "outputs": [
    {
     "data": {
      "text/plain": "(29665, 8925)"
     },
     "execution_count": 11,
     "metadata": {},
     "output_type": "execute_result"
    }
   ],
   "source": [
    "added_normal_rule_count, added_html_rule_count"
   ],
   "metadata": {
    "collapsed": false,
    "pycharm": {
     "name": "#%%\n"
    }
   }
  },
  {
   "cell_type": "code",
   "execution_count": 12,
   "outputs": [
    {
     "data": {
      "text/plain": "(18196, 6154)"
     },
     "execution_count": 12,
     "metadata": {},
     "output_type": "execute_result"
    }
   ],
   "source": [
    "deleted_normal_rule_count, deleted_html_rule_count"
   ],
   "metadata": {
    "collapsed": false,
    "pycharm": {
     "name": "#%%\n"
    }
   }
  },
  {
   "cell_type": "markdown",
   "source": [
    "### Commit average time cost"
   ],
   "metadata": {
    "collapsed": false,
    "pycharm": {
     "name": "#%% md\n"
    }
   }
  },
  {
   "cell_type": "code",
   "execution_count": 13,
   "outputs": [],
   "source": [
    "filename_list = os.listdir(easylist_dir)\n",
    "filename_list.sort()"
   ],
   "metadata": {
    "collapsed": false,
    "pycharm": {
     "name": "#%%\n"
    }
   }
  },
  {
   "cell_type": "code",
   "execution_count": 14,
   "outputs": [],
   "source": [
    "# record time cost in seconds\n",
    "commit_avg_time_cost_list = list()\n",
    "smallest_new_ts = sys.maxsize\n",
    "for new, old in pairwise(filename_list):\n",
    "    new_ts = int(new[:-4].split(\"_\")[2])\n",
    "    old_ts = int(old[:-4].split(\"_\")[2])\n",
    "    if smallest_new_ts >= new_ts >= old_ts:\n",
    "        commit_avg_time_cost_list.append(new_ts - old_ts)\n",
    "    smallest_new_ts = min(smallest_new_ts, new_ts)\n",
    "commit_avg_time_cost_list = np.array(commit_avg_time_cost_list)"
   ],
   "metadata": {
    "collapsed": false,
    "pycharm": {
     "name": "#%%\n"
    }
   }
  },
  {
   "cell_type": "code",
   "execution_count": 15,
   "outputs": [
    {
     "data": {
      "text/plain": "(array([2.2518e+04, 7.5250e+03, 2.1550e+03, 1.2540e+03, 8.2800e+02,\n        6.1400e+02, 5.0900e+02, 4.2300e+02, 4.5900e+02, 5.1800e+02,\n        4.9400e+02, 5.4500e+02, 4.4800e+02, 3.7500e+02, 2.8600e+02,\n        2.0900e+02, 1.6400e+02, 1.0000e+02, 7.1000e+01, 4.7000e+01,\n        3.0000e+01, 2.7000e+01, 1.9000e+01, 2.7000e+01, 3.7000e+01,\n        2.0000e+01, 1.9000e+01, 2.7000e+01, 3.0000e+01, 1.2000e+01]),\n array([0.        , 0.03333333, 0.06666667, 0.1       , 0.13333333,\n        0.16666667, 0.2       , 0.23333333, 0.26666667, 0.3       ,\n        0.33333333, 0.36666667, 0.4       , 0.43333333, 0.46666667,\n        0.5       , 0.53333333, 0.56666667, 0.6       , 0.63333333,\n        0.66666667, 0.7       , 0.73333333, 0.76666667, 0.8       ,\n        0.83333333, 0.86666667, 0.9       , 0.93333333, 0.96666667,\n        1.        ]),\n <BarContainer object of 30 artists>)"
     },
     "execution_count": 15,
     "metadata": {},
     "output_type": "execute_result"
    },
    {
     "data": {
      "text/plain": "<Figure size 432x288 with 1 Axes>",
      "image/png": "[encoded data removed]"
     },
     "metadata": {
      "needs_background": "light"
     },
     "output_type": "display_data"
    }
   ],
   "source": [
    "SECONDS_PER_DAY = 3600 * 24\n",
    "_, ax = plt.subplots(1, 1)\n",
    "ax.set_title(\"Commit average time cost\")\n",
    "ax.set_xlabel(\"Days\")\n",
    "ax.set_ylabel(\"Count\")\n",
    "ax.hist(commit_avg_time_cost_list / SECONDS_PER_DAY, bins=30, range=(0, 1))"
   ],
   "metadata": {
    "collapsed": false,
    "pycharm": {
     "name": "#%%\n"
    }
   }
  },
  {
   "cell_type": "code",
   "execution_count": 16,
   "outputs": [
    {
     "data": {
      "text/plain": "(array([0.56592109, 0.75503895, 0.80919829, 0.84071375, 0.861523  ,\n        0.87695401, 0.88974617, 0.90037698, 0.91191254, 0.92493089,\n        0.93734607, 0.95104298, 0.96230209, 0.97172656, 0.9789143 ,\n        0.98416688, 0.98828851, 0.99080171, 0.99258608, 0.99376728,\n        0.99452124, 0.9951998 , 0.99567731, 0.99635587, 0.99728575,\n        0.99778839, 0.9982659 , 0.99894446, 0.99969842, 1.        ]),\n array([0.        , 0.03333333, 0.06666667, 0.1       , 0.13333333,\n        0.16666667, 0.2       , 0.23333333, 0.26666667, 0.3       ,\n        0.33333333, 0.36666667, 0.4       , 0.43333333, 0.46666667,\n        0.5       , 0.53333333, 0.56666667, 0.6       , 0.63333333,\n        0.66666667, 0.7       , 0.73333333, 0.76666667, 0.8       ,\n        0.83333333, 0.86666667, 0.9       , 0.93333333, 0.96666667,\n        1.        ]),\n <BarContainer object of 30 artists>)"
     },
     "execution_count": 16,
     "metadata": {},
     "output_type": "execute_result"
    },
    {
     "data": {
      "text/plain": "<Figure size 432x288 with 1 Axes>",
      "image/png": "[encoded data removed]"
     },
     "metadata": {
      "needs_background": "light"
     },
     "output_type": "display_data"
    }
   ],
   "source": [
    "_, ax = plt.subplots(1, 1)\n",
    "ax.set_title(\"Commit average time cost(CDF form)\")\n",
    "ax.set_xlabel(\"Days\")\n",
    "ax.set_ylabel(\"Percentage\")\n",
    "ax.hist(commit_avg_time_cost_list / SECONDS_PER_DAY, bins=30, range=(0, 1), cumulative=True, density=True)"
   ],
   "metadata": {
    "collapsed": false,
    "pycharm": {
     "name": "#%%\n"
    }
   }
  },
  {
   "cell_type": "markdown",
   "source": [
    "### FP statistics\n",
    "Simply count all \"exception rules\" in `added` part of `diff_dict`."
   ],
   "metadata": {
    "collapsed": false,
    "pycharm": {
     "name": "#%% md\n"
    }
   }
  },
  {
   "cell_type": "code",
   "execution_count": 17,
   "outputs": [],
   "source": [
    "fp_count = 0\n",
    "fp_solved_list = list()\n",
    "for diff_key, diff in diff_dict.items():\n",
    "    new_idx, _ = diff_key[:-5].split(\"_\")\n",
    "    for deleted_rule in diff[\"added\"]:\n",
    "        deleted_rule: Rule\n",
    "        if not deleted_rule.is_exception:\n",
    "            continue\n",
    "        for added_other_rule in diff[\"added\"]:\n",
    "            added_other_rule: Rule\n",
    "            if deleted_rule.domain == added_other_rule.domain \\\n",
    "                and deleted_rule.is_exception != added_other_rule.is_exception \\\n",
    "                and deleted_rule.is_html_rule == added_other_rule.is_html_rule:\n",
    "                break\n",
    "        else:\n",
    "            # real fp errors will go here\n",
    "            fp_count += 1 if deleted_rule.is_exception else 0\n",
    "            fp_solved_list.append((new_idx, deleted_rule))\n"
   ],
   "metadata": {
    "collapsed": false,
    "pycharm": {
     "name": "#%%\n"
    }
   }
  },
  {
   "cell_type": "code",
   "execution_count": 18,
   "outputs": [
    {
     "data": {
      "text/plain": "2791"
     },
     "execution_count": 18,
     "metadata": {},
     "output_type": "execute_result"
    }
   ],
   "source": [
    "fp_count"
   ],
   "metadata": {
    "collapsed": false,
    "pycharm": {
     "name": "#%%\n"
    }
   }
  },
  {
   "cell_type": "code",
   "execution_count": 19,
   "outputs": [
    {
     "data": {
      "text/plain": "('00007',\n Rule(raw_rule_text='@@||pagead2.googlesyndication.com/pagead/js/adsbygoogle.js$domain=mpyit.com|chaojizhibo.net|chtoen.com|daxiaamu.com|dizhishengcheng.com|doitwell.tw|eu4cn.com|ff14angler.com|freedidi.com|haoweichi.com|it365.abctool.info|linovelib.com|logi.im|monnsutogatya.com|numberempire.com|ozabc.com|patch.ali213.net|pc3mag.com|shenfendaquan.com|sto520.com|switch520.com|vaptcha.com|wenxuecity.com|wuyong.fun|xbeibeix.com|xiebruce.top|xugaoxiang.com|xxxxx520.com|yodu.org', domain='pagead2.googlesyndication.com', is_exception=True, is_html_rule=False, options={'domain': {'mpyit.com': True, 'chaojizhibo.net': True, 'chtoen.com': True, 'daxiaamu.com': True, 'dizhishengcheng.com': True, 'doitwell.tw': True, 'eu4cn.com': True, 'ff14angler.com': True, 'freedidi.com': True, 'haoweichi.com': True, 'it365.abctool.info': True, 'linovelib.com': True, 'logi.im': True, 'monnsutogatya.com': True, 'numberempire.com': True, 'ozabc.com': True, 'patch.ali213.net': True, 'pc3mag.com': True, 'shenfendaquan.com': True, 'sto520.com': True, 'switch520.com': True, 'vaptcha.com': True, 'wenxuecity.com': True, 'wuyong.fun': True, 'xbeibeix.com': True, 'xiebruce.top': True, 'xugaoxiang.com': True, 'xxxxx520.com': True, 'yodu.org': True}}))"
     },
     "execution_count": 19,
     "metadata": {},
     "output_type": "execute_result"
    }
   ],
   "source": [
    "fp_solved_list[0]"
   ],
   "metadata": {
    "collapsed": false,
    "pycharm": {
     "name": "#%%\n"
    }
   }
  },
  {
   "cell_type": "markdown",
   "source": [
    "### Frequency of changes of second level domain(SLD)"
   ],
   "metadata": {
    "collapsed": false,
    "pycharm": {
     "name": "#%% md\n"
    }
   }
  },
  {
   "cell_type": "code",
   "execution_count": 20,
   "outputs": [],
   "source": [
    "pass"
   ],
   "metadata": {
    "collapsed": false,
    "pycharm": {
     "name": "#%%\n"
    }
   }
  },
  {
   "cell_type": "markdown",
   "source": [
    "### Interval between standalone exception rule and its nearest occurrence\n"
   ],
   "metadata": {
    "collapsed": false,
    "pycharm": {
     "name": "#%% md\n"
    }
   }
  },
  {
   "cell_type": "code",
   "execution_count": 21,
   "outputs": [
    {
     "name": "stderr",
     "output_type": "stream",
     "text": [
      "100%|██████████| 2791/2791 [00:00<00:00, 348661.28it/s]\n"
     ]
    }
   ],
   "source": [
    "fp_time_costs = list()\n",
    "for fp_idx, fp_rule in tqdm(fp_solved_list):\n",
    "    fp_rule: Rule\n",
    "    for old_idx in range(int(fp_idx) + 1, len(diff_dict)):\n",
    "        # find the nearest commit that added some related rule\n",
    "        old_diff = diff_dict[f\"{int(old_idx):05}_{int(old_idx) + 1:05}.json\"]\n",
    "        for old_added in old_diff[\"added\"]:\n",
    "            old_added: Rule\n",
    "            if fp_rule.domain == old_added.domain and fp_rule.is_html_rule == old_added.is_html_rule:\n",
    "                # once found, break\n",
    "                fp_time_costs.append(abs(get_commit_time_diff_by_idx(fp_idx, old_idx)))\n",
    "                break\n",
    "        break\n",
    "\n",
    "# transform secs to days\n",
    "fp_time_costs = np.array(fp_time_costs) / 3600 / 24\n"
   ],
   "metadata": {
    "collapsed": false,
    "pycharm": {
     "name": "#%%\n"
    }
   }
  },
  {
   "cell_type": "code",
   "execution_count": 22,
   "outputs": [
    {
     "data": {
      "text/plain": "0.0724972723519698"
     },
     "execution_count": 22,
     "metadata": {},
     "output_type": "execute_result"
    }
   ],
   "source": [
    "np.mean(fp_time_costs)"
   ],
   "metadata": {
    "collapsed": false,
    "pycharm": {
     "name": "#%%\n"
    }
   }
  },
  {
   "cell_type": "code",
   "execution_count": 23,
   "outputs": [
    {
     "data": {
      "text/plain": "0.15707745604116585"
     },
     "execution_count": 23,
     "metadata": {},
     "output_type": "execute_result"
    }
   ],
   "source": [
    "np.std(fp_time_costs)"
   ],
   "metadata": {
    "collapsed": false,
    "pycharm": {
     "name": "#%%\n"
    }
   }
  },
  {
   "cell_type": "code",
   "execution_count": 24,
   "outputs": [
    {
     "data": {
      "text/plain": "(array([114.,  12.,   3.,  11.,   2.,   1.,   2.,   1.,   2.,   3.,   0.,\n          3.,   0.,   0.,   1.,   0.,   1.,   0.,   0.,   0.,   0.,   0.,\n          0.,   0.,   0.,   0.,   0.,   0.,   0.,   1.]),\n array([5.78703704e-04, 4.27295525e-02, 8.48804012e-02, 1.27031250e-01,\n        1.69182099e-01, 2.11332948e-01, 2.53483796e-01, 2.95634645e-01,\n        3.37785494e-01, 3.79936343e-01, 4.22087191e-01, 4.64238040e-01,\n        5.06388889e-01, 5.48539738e-01, 5.90690586e-01, 6.32841435e-01,\n        6.74992284e-01, 7.17143133e-01, 7.59293981e-01, 8.01444830e-01,\n        8.43595679e-01, 8.85746528e-01, 9.27897377e-01, 9.70048225e-01,\n        1.01219907e+00, 1.05434992e+00, 1.09650077e+00, 1.13865162e+00,\n        1.18080247e+00, 1.22295332e+00, 1.26510417e+00]),\n <BarContainer object of 30 artists>)"
     },
     "execution_count": 24,
     "metadata": {},
     "output_type": "execute_result"
    },
    {
     "data": {
      "text/plain": "<Figure size 432x288 with 1 Axes>",
      "image/png": "[encoded data removed]"
     },
     "metadata": {
      "needs_background": "light"
     },
     "output_type": "display_data"
    }
   ],
   "source": [
    "_, ax = plt.subplots(1, 1)\n",
    "ax.set_title(\"Interval between standalone EX rules and nearest addition\")\n",
    "ax.set_xlabel(\"Days\")\n",
    "ax.set_ylabel(\"Count\")\n",
    "ax.hist(fp_time_costs, bins=30)"
   ],
   "metadata": {
    "collapsed": false,
    "pycharm": {
     "name": "#%%\n"
    }
   }
  },
  {
   "cell_type": "code",
   "execution_count": 25,
   "outputs": [
    {
     "data": {
      "text/plain": "(array([0.72611465, 0.80254777, 0.82165605, 0.89171975, 0.9044586 ,\n        0.91082803, 0.92356688, 0.92993631, 0.94267516, 0.96178344,\n        0.96178344, 0.98089172, 0.98089172, 0.98089172, 0.98726115,\n        0.98726115, 0.99363057, 0.99363057, 0.99363057, 0.99363057,\n        0.99363057, 0.99363057, 0.99363057, 0.99363057, 0.99363057,\n        0.99363057, 0.99363057, 0.99363057, 0.99363057, 1.        ]),\n array([5.78703704e-04, 4.27295525e-02, 8.48804012e-02, 1.27031250e-01,\n        1.69182099e-01, 2.11332948e-01, 2.53483796e-01, 2.95634645e-01,\n        3.37785494e-01, 3.79936343e-01, 4.22087191e-01, 4.64238040e-01,\n        5.06388889e-01, 5.48539738e-01, 5.90690586e-01, 6.32841435e-01,\n        6.74992284e-01, 7.17143133e-01, 7.59293981e-01, 8.01444830e-01,\n        8.43595679e-01, 8.85746528e-01, 9.27897377e-01, 9.70048225e-01,\n        1.01219907e+00, 1.05434992e+00, 1.09650077e+00, 1.13865162e+00,\n        1.18080247e+00, 1.22295332e+00, 1.26510417e+00]),\n <BarContainer object of 30 artists>)"
     },
     "execution_count": 25,
     "metadata": {},
     "output_type": "execute_result"
    },
    {
     "data": {
      "text/plain": "<Figure size 432x288 with 1 Axes>",
      "image/png": "[encoded data removed]"
     },
     "metadata": {
      "needs_background": "light"
     },
     "output_type": "display_data"
    }
   ],
   "source": [
    "_, ax = plt.subplots(1, 1)\n",
    "ax.set_title(\"Interval between EX standalone rules and nearest addition(CDF form)\")\n",
    "ax.set_xlabel(\"Days\")\n",
    "ax.set_ylabel(\"Percentage\")\n",
    "ax.hist(fp_time_costs, bins=30, cumulative=True, density=True)"
   ],
   "metadata": {
    "collapsed": false,
    "pycharm": {
     "name": "#%%\n"
    }
   }
  },
  {
   "cell_type": "code",
   "execution_count": 25,
   "outputs": [],
   "source": [],
   "metadata": {
    "collapsed": false,
    "pycharm": {
     "name": "#%%\n"
    }
   }
  }
 ],
 "metadata": {
  "kernelspec": {
   "display_name": "Python 3",
   "language": "python",
   "name": "python3"
  },
  "language_info": {
   "codemirror_mode": {
    "name": "ipython",
    "version": 2
   },
   "file_extension": ".py",
   "mimetype": "text/x-python",
   "name": "python",
   "nbconvert_exporter": "python",
   "pygments_lexer": "ipython2",
   "version": "2.7.6"
  }
 },
 "nbformat": 4,
 "nbformat_minor": 0
}