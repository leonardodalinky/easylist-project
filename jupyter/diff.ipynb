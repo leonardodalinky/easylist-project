{
 "cells": [
  {
   "cell_type": "code",
   "execution_count": 1,
   "metadata": {
    "collapsed": true,
    "pycharm": {
     "name": "#%%\n"
    }
   },
   "outputs": [],
   "source": [
    "%load_ext autoreload\n",
    "%autoreload 2\n",
    "\n",
    "import sys\n",
    "\n",
    "sys.path.append(\"../src\")"
   ]
  },
  {
   "cell_type": "code",
   "execution_count": 2,
   "outputs": [],
   "source": [
    "import os\n",
    "import json\n",
    "import numpy as np\n",
    "import itertools\n",
    "import matplotlib.pyplot as plt\n",
    "\n",
    "from tqdm import tqdm\n",
    "\n",
    "from pathlib import Path\n",
    "from filter_parser import Rule"
   ],
   "metadata": {
    "collapsed": false,
    "pycharm": {
     "name": "#%%\n"
    }
   }
  },
  {
   "cell_type": "markdown",
   "source": [
    "## Data acquisition"
   ],
   "metadata": {
    "collapsed": false,
    "pycharm": {
     "name": "#%% md\n"
    }
   }
  },
  {
   "cell_type": "code",
   "execution_count": 3,
   "outputs": [],
   "source": [
    "DATA_ROOT_DIR = Path(\"/tmp/easylist_processed\")\n",
    "easylist_dir = DATA_ROOT_DIR / \"all_easylists\"\n",
    "diff_dir = DATA_ROOT_DIR / \"easylists_diff\"\n",
    "easylist_dir_filenames = os.listdir(easylist_dir)\n",
    "diff_dir_filenames = os.listdir(diff_dir)\n",
    "easylist_dir_filenames.sort()\n",
    "diff_dir_filenames.sort()"
   ],
   "metadata": {
    "collapsed": false,
    "pycharm": {
     "name": "#%%\n"
    }
   }
  },
  {
   "cell_type": "code",
   "execution_count": 4,
   "outputs": [],
   "source": [
    "def dict_from_diff_file(diff_filepath):\n",
    "    diff_filepath = Path(diff_filepath)\n",
    "    assert diff_filepath.exists() and diff_filepath.is_file()\n",
    "    with diff_filepath.open(\"r\", encoding=\"utf-8\") as fp:\n",
    "        d = json.load(fp)\n",
    "\n",
    "    def _transform(rule_dict):\n",
    "        return Rule(**rule_dict)\n",
    "\n",
    "    return {\n",
    "        \"added\": [_transform(r) for r in d[\"added\"]],\n",
    "        \"deleted\": [_transform(r) for r in d[\"deleted\"]],\n",
    "    }"
   ],
   "metadata": {
    "collapsed": false,
    "pycharm": {
     "name": "#%%\n"
    }
   }
  },
  {
   "cell_type": "code",
   "execution_count": 5,
   "outputs": [
    {
     "data": {
      "text/plain": "{'added': [Rule(raw_rule_text='||copyfuture.com/images/zhifubao.jpg', domain='copyfuture.com', is_exception=False, is_html_rule=False, options={})],\n 'deleted': []}"
     },
     "execution_count": 5,
     "metadata": {},
     "output_type": "execute_result"
    }
   ],
   "source": [
    "dict_from_diff_file(diff_dir / \"00000_00001.json\")"
   ],
   "metadata": {
    "collapsed": false,
    "pycharm": {
     "name": "#%%\n"
    }
   }
  },
  {
   "cell_type": "code",
   "execution_count": 6,
   "outputs": [],
   "source": [
    "diff_dir_json_list = os.listdir(diff_dir)\n",
    "diff_dir_json_list.sort()\n",
    "diff_dict = {json_name: dict_from_diff_file(diff_dir / json_name) for json_name in diff_dir_json_list}"
   ],
   "metadata": {
    "collapsed": false,
    "pycharm": {
     "name": "#%%\n"
    }
   }
  },
  {
   "cell_type": "code",
   "execution_count": 7,
   "outputs": [
    {
     "data": {
      "text/plain": "('00000_00001.json',\n {'added': [Rule(raw_rule_text='||copyfuture.com/images/zhifubao.jpg', domain='copyfuture.com', is_exception=False, is_html_rule=False, options={})],\n  'deleted': []})"
     },
     "execution_count": 7,
     "metadata": {},
     "output_type": "execute_result"
    }
   ],
   "source": [
    "next(iter(diff_dict.items()))"
   ],
   "metadata": {
    "collapsed": false,
    "pycharm": {
     "name": "#%%\n"
    }
   }
  },
  {
   "cell_type": "markdown",
   "source": [
    "## Utilities"
   ],
   "metadata": {
    "collapsed": false,
    "pycharm": {
     "name": "#%% md\n"
    }
   }
  },
  {
   "cell_type": "code",
   "execution_count": 8,
   "outputs": [],
   "source": [
    "def pairwise(iterable):\n",
    "    a, b = itertools.tee(iterable)\n",
    "    next(b, None)\n",
    "    return zip(a, b)\n",
    "\n",
    "def find_easylist_filename_by_idx(idx) -> str:\n",
    "    idx = int(idx)\n",
    "    return easylist_dir_filenames[idx]\n",
    "\n",
    "def get_commit_time_diff_by_idx(new_idx, old_idx) -> int:\n",
    "    \"\"\"\n",
    "    Compute the time difference between two commit identified by its index in `easylist_dir`.\n",
    "\n",
    "    Args:\n",
    "        new_idx: newer commit idx, should be less than `old_idx`\n",
    "        old_idx: older commit idx, should be greater than `new_idx`\n",
    "\n",
    "    Returns:\n",
    "        time difference in seconds\n",
    "    \"\"\"\n",
    "    new_idx = int(new_idx)\n",
    "    old_idx = int(old_idx)\n",
    "    assert new_idx <= old_idx\n",
    "    new_filename = find_easylist_filename_by_idx(new_idx)\n",
    "    old_filename = find_easylist_filename_by_idx(old_idx)\n",
    "    new_ts = int(new_filename[:-4].split(\"_\")[2])\n",
    "    old_ts = int(old_filename[:-4].split(\"_\")[2])\n",
    "    return new_ts - old_ts\n"
   ],
   "metadata": {
    "collapsed": false,
    "pycharm": {
     "name": "#%%\n"
    }
   }
  },
  {
   "cell_type": "markdown",
   "source": [
    "## Experiments"
   ],
   "metadata": {
    "collapsed": false,
    "pycharm": {
     "name": "#%% md\n"
    }
   }
  },
  {
   "cell_type": "markdown",
   "source": [
    "### Commit average time cost"
   ],
   "metadata": {
    "collapsed": false,
    "pycharm": {
     "name": "#%% md\n"
    }
   }
  },
  {
   "cell_type": "code",
   "execution_count": 9,
   "outputs": [],
   "source": [
    "filename_list = os.listdir(easylist_dir)\n",
    "filename_list.sort()"
   ],
   "metadata": {
    "collapsed": false,
    "pycharm": {
     "name": "#%%\n"
    }
   }
  },
  {
   "cell_type": "code",
   "execution_count": 10,
   "outputs": [],
   "source": [
    "# record time cost in seconds\n",
    "commit_avg_time_cost_list = list()\n",
    "smallest_new_ts = sys.maxsize\n",
    "for new, old in pairwise(filename_list):\n",
    "    new_ts = int(new[:-4].split(\"_\")[2])\n",
    "    old_ts = int(old[:-4].split(\"_\")[2])\n",
    "    if smallest_new_ts >= new_ts >= old_ts:\n",
    "        commit_avg_time_cost_list.append(new_ts - old_ts)\n",
    "    smallest_new_ts = min(smallest_new_ts, new_ts)\n",
    "commit_avg_time_cost_list = np.array(commit_avg_time_cost_list)"
   ],
   "metadata": {
    "collapsed": false,
    "pycharm": {
     "name": "#%%\n"
    }
   }
  },
  {
   "cell_type": "code",
   "execution_count": 11,
   "outputs": [
    {
     "data": {
      "text/plain": "(array([2.2518e+04, 7.5250e+03, 2.1550e+03, 1.2540e+03, 8.2800e+02,\n        6.1400e+02, 5.0900e+02, 4.2300e+02, 4.5900e+02, 5.1800e+02,\n        4.9400e+02, 5.4500e+02, 4.4800e+02, 3.7500e+02, 2.8600e+02,\n        2.0900e+02, 1.6400e+02, 1.0000e+02, 7.1000e+01, 4.7000e+01,\n        3.0000e+01, 2.7000e+01, 1.9000e+01, 2.7000e+01, 3.7000e+01,\n        2.0000e+01, 1.9000e+01, 2.7000e+01, 3.0000e+01, 1.2000e+01]),\n array([0.        , 0.03333333, 0.06666667, 0.1       , 0.13333333,\n        0.16666667, 0.2       , 0.23333333, 0.26666667, 0.3       ,\n        0.33333333, 0.36666667, 0.4       , 0.43333333, 0.46666667,\n        0.5       , 0.53333333, 0.56666667, 0.6       , 0.63333333,\n        0.66666667, 0.7       , 0.73333333, 0.76666667, 0.8       ,\n        0.83333333, 0.86666667, 0.9       , 0.93333333, 0.96666667,\n        1.        ]),\n <BarContainer object of 30 artists>)"
     },
     "execution_count": 11,
     "metadata": {},
     "output_type": "execute_result"
    },
    {
     "data": {
      "text/plain": "<Figure size 432x288 with 1 Axes>",
      "image/png": "[encoded data removed]"
     },
     "metadata": {
      "needs_background": "light"
     },
     "output_type": "display_data"
    }
   ],
   "source": [
    "SECONDS_PER_DAY = 3600 * 24\n",
    "_, ax = plt.subplots(1, 1)\n",
    "ax.set_title(\"Commit average time cost\")\n",
    "ax.set_xlabel(\"Days\")\n",
    "ax.set_ylabel(\"Count\")\n",
    "ax.hist(commit_avg_time_cost_list / SECONDS_PER_DAY, bins=30, range=(0, 1))"
   ],
   "metadata": {
    "collapsed": false,
    "pycharm": {
     "name": "#%%\n"
    }
   }
  },
  {
   "cell_type": "code",
   "execution_count": 12,
   "outputs": [
    {
     "data": {
      "text/plain": "(array([0.56592109, 0.75503895, 0.80919829, 0.84071375, 0.861523  ,\n        0.87695401, 0.88974617, 0.90037698, 0.91191254, 0.92493089,\n        0.93734607, 0.95104298, 0.96230209, 0.97172656, 0.9789143 ,\n        0.98416688, 0.98828851, 0.99080171, 0.99258608, 0.99376728,\n        0.99452124, 0.9951998 , 0.99567731, 0.99635587, 0.99728575,\n        0.99778839, 0.9982659 , 0.99894446, 0.99969842, 1.        ]),\n array([0.        , 0.03333333, 0.06666667, 0.1       , 0.13333333,\n        0.16666667, 0.2       , 0.23333333, 0.26666667, 0.3       ,\n        0.33333333, 0.36666667, 0.4       , 0.43333333, 0.46666667,\n        0.5       , 0.53333333, 0.56666667, 0.6       , 0.63333333,\n        0.66666667, 0.7       , 0.73333333, 0.76666667, 0.8       ,\n        0.83333333, 0.86666667, 0.9       , 0.93333333, 0.96666667,\n        1.        ]),\n <BarContainer object of 30 artists>)"
     },
     "execution_count": 12,
     "metadata": {},
     "output_type": "execute_result"
    },
    {
     "data": {
      "text/plain": "<Figure size 432x288 with 1 Axes>",
      "image/png": "[encoded data removed]"
     },
     "metadata": {
      "needs_background": "light"
     },
     "output_type": "display_data"
    }
   ],
   "source": [
    "_, ax = plt.subplots(1, 1)\n",
    "ax.set_title(\"Commit average time cost(CDF form)\")\n",
    "ax.set_xlabel(\"Days\")\n",
    "ax.set_ylabel(\"Percentage\")\n",
    "ax.hist(commit_avg_time_cost_list / SECONDS_PER_DAY, bins=30, range=(0, 1), cumulative=True, density=True)"
   ],
   "metadata": {
    "collapsed": false,
    "pycharm": {
     "name": "#%%\n"
    }
   }
  },
  {
   "cell_type": "markdown",
   "source": [
    "### FP statistics\n",
    "Simply count all \"exception rules\" in `added` part of `diff_dict`."
   ],
   "metadata": {
    "collapsed": false,
    "pycharm": {
     "name": "#%% md\n"
    }
   }
  },
  {
   "cell_type": "code",
   "execution_count": 13,
   "outputs": [],
   "source": [
    "fp_count = 0\n",
    "fp_solved_list = list()\n",
    "for diff_key, diff in diff_dict.items():\n",
    "    new_idx, _ = diff_key[:-5].split(\"_\")\n",
    "    for added_rule in diff[\"added\"]:\n",
    "        added_rule: Rule\n",
    "        if not added_rule.is_exception:\n",
    "            continue\n",
    "        for added_other_rule in diff[\"added\"]:\n",
    "            added_other_rule: Rule\n",
    "            if added_rule.domain == added_other_rule.domain \\\n",
    "                and added_rule.is_exception != added_other_rule.is_exception \\\n",
    "                and added_rule.is_html_rule == added_other_rule.is_html_rule:\n",
    "                break\n",
    "        else:\n",
    "            # real fp errors will go here\n",
    "            fp_count += 1 if added_rule.is_exception else 0\n",
    "            fp_solved_list.append((new_idx, added_rule))\n"
   ],
   "metadata": {
    "collapsed": false,
    "pycharm": {
     "name": "#%%\n"
    }
   }
  },
  {
   "cell_type": "code",
   "execution_count": 14,
   "outputs": [
    {
     "data": {
      "text/plain": "2791"
     },
     "execution_count": 14,
     "metadata": {},
     "output_type": "execute_result"
    }
   ],
   "source": [
    "fp_count"
   ],
   "metadata": {
    "collapsed": false,
    "pycharm": {
     "name": "#%%\n"
    }
   }
  },
  {
   "cell_type": "code",
   "execution_count": 15,
   "outputs": [
    {
     "data": {
      "text/plain": "('00007',\n Rule(raw_rule_text='@@||pagead2.googlesyndication.com/pagead/js/adsbygoogle.js$domain=mpyit.com|chaojizhibo.net|chtoen.com|daxiaamu.com|dizhishengcheng.com|doitwell.tw|eu4cn.com|ff14angler.com|freedidi.com|haoweichi.com|it365.abctool.info|linovelib.com|logi.im|monnsutogatya.com|numberempire.com|ozabc.com|patch.ali213.net|pc3mag.com|shenfendaquan.com|sto520.com|switch520.com|vaptcha.com|wenxuecity.com|wuyong.fun|xbeibeix.com|xiebruce.top|xugaoxiang.com|xxxxx520.com|yodu.org', domain='pagead2.googlesyndication.com', is_exception=True, is_html_rule=False, options={'domain': {'mpyit.com': True, 'chaojizhibo.net': True, 'chtoen.com': True, 'daxiaamu.com': True, 'dizhishengcheng.com': True, 'doitwell.tw': True, 'eu4cn.com': True, 'ff14angler.com': True, 'freedidi.com': True, 'haoweichi.com': True, 'it365.abctool.info': True, 'linovelib.com': True, 'logi.im': True, 'monnsutogatya.com': True, 'numberempire.com': True, 'ozabc.com': True, 'patch.ali213.net': True, 'pc3mag.com': True, 'shenfendaquan.com': True, 'sto520.com': True, 'switch520.com': True, 'vaptcha.com': True, 'wenxuecity.com': True, 'wuyong.fun': True, 'xbeibeix.com': True, 'xiebruce.top': True, 'xugaoxiang.com': True, 'xxxxx520.com': True, 'yodu.org': True}}))"
     },
     "execution_count": 15,
     "metadata": {},
     "output_type": "execute_result"
    }
   ],
   "source": [
    "fp_solved_list[0]"
   ],
   "metadata": {
    "collapsed": false,
    "pycharm": {
     "name": "#%%\n"
    }
   }
  },
  {
   "cell_type": "markdown",
   "source": [
    "### Frequency of changes of second level domain(SLD)"
   ],
   "metadata": {
    "collapsed": false,
    "pycharm": {
     "name": "#%% md\n"
    }
   }
  },
  {
   "cell_type": "code",
   "execution_count": 16,
   "outputs": [],
   "source": [
    "pass"
   ],
   "metadata": {
    "collapsed": false,
    "pycharm": {
     "name": "#%%\n"
    }
   }
  },
  {
   "cell_type": "markdown",
   "source": [
    "### Interval between standalone exception rule and its nearest occurrence\n"
   ],
   "metadata": {
    "collapsed": false,
    "pycharm": {
     "name": "#%% md\n"
    }
   }
  },
  {
   "cell_type": "code",
   "execution_count": 17,
   "outputs": [
    {
     "name": "stderr",
     "output_type": "stream",
     "text": [
      "100%|██████████| 2791/2791 [00:00<00:00, 513074.27it/s]\n"
     ]
    }
   ],
   "source": [
    "fp_time_costs = list()\n",
    "for fp_idx, fp_rule in tqdm(fp_solved_list):\n",
    "    fp_rule: Rule\n",
    "    for old_idx in range(int(fp_idx) + 1, len(diff_dict)):\n",
    "        # find the nearest commit that added some related rule\n",
    "        old_diff = diff_dict[f\"{int(old_idx):05}_{int(old_idx) + 1:05}.json\"]\n",
    "        for old_added in old_diff[\"added\"]:\n",
    "            old_added: Rule\n",
    "            if fp_rule.domain == old_added.domain and fp_rule.is_html_rule == old_added.is_html_rule:\n",
    "                # once found, break\n",
    "                fp_time_costs.append(abs(get_commit_time_diff_by_idx(fp_idx, old_idx)))\n",
    "                break\n",
    "        break\n",
    "\n",
    "# transform secs to days\n",
    "fp_time_costs = np.array(fp_time_costs) / 3600 / 24\n"
   ],
   "metadata": {
    "collapsed": false,
    "pycharm": {
     "name": "#%%\n"
    }
   }
  },
  {
   "cell_type": "code",
   "execution_count": 18,
   "outputs": [
    {
     "data": {
      "text/plain": "974.369356717386"
     },
     "execution_count": 18,
     "metadata": {},
     "output_type": "execute_result"
    }
   ],
   "source": [
    "np.mean(fp_time_costs)"
   ],
   "metadata": {
    "collapsed": false,
    "pycharm": {
     "name": "#%%\n"
    }
   }
  },
  {
   "cell_type": "code",
   "execution_count": 19,
   "outputs": [
    {
     "data": {
      "text/plain": "745.4183252149834"
     },
     "execution_count": 19,
     "metadata": {},
     "output_type": "execute_result"
    }
   ],
   "source": [
    "np.std(fp_time_costs)"
   ],
   "metadata": {
    "collapsed": false,
    "pycharm": {
     "name": "#%%\n"
    }
   }
  },
  {
   "cell_type": "code",
   "execution_count": 20,
   "outputs": [
    {
     "data": {
      "text/plain": "(array([16., 12., 13.,  7.,  7.,  5., 13.,  6.,  7.,  1., 15.,  4.,  4.,\n         9.,  3.,  4.,  2.,  5.,  1.,  7.,  3.,  3.,  0.,  1.,  2.,  1.,\n         1.,  1.,  1.,  3.]),\n array([  36.52616898,  135.19029784,  233.8544267 ,  332.51855556,\n         431.18268441,  529.84681327,  628.51094213,  727.17507099,\n         825.83919985,  924.5033287 , 1023.16745756, 1121.83158642,\n        1220.49571528, 1319.15984414, 1417.82397299, 1516.48810185,\n        1615.15223071, 1713.81635957, 1812.48048843, 1911.14461728,\n        2009.80874614, 2108.472875  , 2207.13700386, 2305.80113272,\n        2404.46526157, 2503.12939043, 2601.79351929, 2700.45764815,\n        2799.12177701, 2897.78590586, 2996.45003472]),\n <BarContainer object of 30 artists>)"
     },
     "execution_count": 20,
     "metadata": {},
     "output_type": "execute_result"
    },
    {
     "data": {
      "text/plain": "<Figure size 432x288 with 1 Axes>",
      "image/png": "[encoded data removed]"
     },
     "metadata": {
      "needs_background": "light"
     },
     "output_type": "display_data"
    }
   ],
   "source": [
    "_, ax = plt.subplots(1, 1)\n",
    "ax.set_title(\"Interval between standalone EX rules and nearest addition\")\n",
    "ax.set_xlabel(\"Days\")\n",
    "ax.set_ylabel(\"Count\")\n",
    "ax.hist(fp_time_costs, bins=30)"
   ],
   "metadata": {
    "collapsed": false,
    "pycharm": {
     "name": "#%%\n"
    }
   }
  },
  {
   "cell_type": "code",
   "execution_count": 21,
   "outputs": [
    {
     "data": {
      "text/plain": "(array([0.10191083, 0.17834395, 0.2611465 , 0.30573248, 0.35031847,\n        0.38216561, 0.46496815, 0.50318471, 0.5477707 , 0.55414013,\n        0.64968153, 0.67515924, 0.70063694, 0.75796178, 0.77707006,\n        0.80254777, 0.81528662, 0.84713376, 0.85350318, 0.89808917,\n        0.91719745, 0.93630573, 0.93630573, 0.94267516, 0.95541401,\n        0.96178344, 0.96815287, 0.97452229, 0.98089172, 1.        ]),\n array([  36.52616898,  135.19029784,  233.8544267 ,  332.51855556,\n         431.18268441,  529.84681327,  628.51094213,  727.17507099,\n         825.83919985,  924.5033287 , 1023.16745756, 1121.83158642,\n        1220.49571528, 1319.15984414, 1417.82397299, 1516.48810185,\n        1615.15223071, 1713.81635957, 1812.48048843, 1911.14461728,\n        2009.80874614, 2108.472875  , 2207.13700386, 2305.80113272,\n        2404.46526157, 2503.12939043, 2601.79351929, 2700.45764815,\n        2799.12177701, 2897.78590586, 2996.45003472]),\n <BarContainer object of 30 artists>)"
     },
     "execution_count": 21,
     "metadata": {},
     "output_type": "execute_result"
    },
    {
     "data": {
      "text/plain": "<Figure size 432x288 with 1 Axes>",
      "image/png": "[encoded data removed]"
     },
     "metadata": {
      "needs_background": "light"
     },
     "output_type": "display_data"
    }
   ],
   "source": [
    "_, ax = plt.subplots(1, 1)\n",
    "ax.set_title(\"Interval between EX standalone rules and nearest addition(CDF form)\")\n",
    "ax.set_xlabel(\"Days\")\n",
    "ax.set_ylabel(\"Percentage\")\n",
    "ax.hist(fp_time_costs, bins=30, cumulative=True, density=True)"
   ],
   "metadata": {
    "collapsed": false,
    "pycharm": {
     "name": "#%%\n"
    }
   }
  },
  {
   "cell_type": "code",
   "execution_count": 21,
   "outputs": [],
   "source": [],
   "metadata": {
    "collapsed": false,
    "pycharm": {
     "name": "#%%\n"
    }
   }
  }
 ],
 "metadata": {
  "kernelspec": {
   "display_name": "Python 3",
   "language": "python",
   "name": "python3"
  },
  "language_info": {
   "codemirror_mode": {
    "name": "ipython",
    "version": 2
   },
   "file_extension": ".py",
   "mimetype": "text/x-python",
   "name": "python",
   "nbconvert_exporter": "python",
   "pygments_lexer": "ipython2",
   "version": "2.7.6"
  }
 },
 "nbformat": 4,
 "nbformat_minor": 0
}